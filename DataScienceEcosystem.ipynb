{
  "metadata": {
    "kernelspec": {
      "name": "python",
      "display_name": "Python (Pyodide)",
      "language": "python"
    },
    "language_info": {
      "codemirror_mode": {
        "name": "python",
        "version": 3
      },
      "file_extension": ".py",
      "mimetype": "text/x-python",
      "name": "python",
      "nbconvert_exporter": "python",
      "pygments_lexer": "ipython3",
      "version": "3.8"
    }
  },
  "nbformat_minor": 4,
  "nbformat": 4,
  "cells": [
    {
      "cell_type": "markdown",
      "source": "#### Exercise 2)\n# Data Science Tools and Ecosystem",
      "metadata": {}
    },
    {
      "cell_type": "markdown",
      "source": "#### Exercise 3)\n<p>Hello, World!</p>\n<p>Thanks for viewing my notebook!  In this notebook, Data Science Tools, Languages and code examples are summarized.</P",
      "metadata": {}
    },
    {
      "cell_type": "markdown",
      "source": "#### Exercise 4)\nSome of the popular languages that Data Scientists use are: \n1. Python\n2. R\n3. SQL\n4. Java\n5. Javascript\n6. Scala\n7. C++\n8. Visual Basic",
      "metadata": {}
    },
    {
      "cell_type": "markdown",
      "source": "#### Exercise 5)\nSome of the commonly used libraries used by Data Scientists include: \n1. Pandas\n2. pySpark\n3. SciKit-learn\n4. ggPlot\n5. Keras",
      "metadata": {}
    },
    {
      "cell_type": "markdown",
      "source": "#### Exercise 6)\n| Data Science Tools |\n| ------ |\n| MongoDB |\n| SparkSQL |\n| MySQL |\n| Hadoop |\n| Tableau |\n| Power BI |",
      "metadata": {}
    },
    {
      "cell_type": "markdown",
      "source": "#### Exercise 7)\n### Below are a few examples of evaluating arithmetic expressions in Python:\n<p>a = 1 + 2</p>\n<p>b = 2 - 3</p>\n<p>c = 3 * b</p>\n<p>d = b / c</p>",
      "metadata": {}
    },
    {
      "cell_type": "code",
      "source": "##### Exercise 8)\n# This a simple arithmetic expression to mutiply then add integers\na = (3*4)+5\nprint(a)",
      "metadata": {
        "trusted": true
      },
      "outputs": [
        {
          "name": "stdout",
          "text": "17\n",
          "output_type": "stream"
        }
      ],
      "execution_count": 17
    },
    {
      "cell_type": "code",
      "source": "#### Exercise 9)\ndef MinutesToHours(minutes):\n    hours = minutes / 60\n    return hours\n\nminutes = 200\nhours = MinutesToHours(minutes)\n\nprint(f\"There are {hours} hours in {minutes} minutes.\")",
      "metadata": {
        "trusted": true
      },
      "outputs": [
        {
          "name": "stdout",
          "text": "There are 3.3333333333333335 hours in 200 minutes.\n",
          "output_type": "stream"
        }
      ],
      "execution_count": 18
    },
    {
      "cell_type": "markdown",
      "source": "#### Exercise 10)\n<b>Objectives:</b>\n* Show arithmetic expressions\n* List popular languages for Data Science\n* Share author's name",
      "metadata": {}
    },
    {
      "cell_type": "markdown",
      "source": "#### Exercise 11)\n## Author\nBrian Bennett.",
      "metadata": {}
    },
    {
      "cell_type": "markdown",
      "source": "#### Exercise 12)\n/Done",
      "metadata": {}
    },
    {
      "cell_type": "raw",
      "source": "",
      "metadata": {}
    }
  ]
}